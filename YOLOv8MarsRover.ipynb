{
 "cells": [
  {
   "cell_type": "markdown",
   "id": "071dbf95-ec70-4a8e-bff7-f8b14ecb4302",
   "metadata": {},
   "source": [
    "# Model"
   ]
  },
  {
   "cell_type": "code",
   "execution_count": 1,
   "id": "0af0b5a5-f877-4895-9ba0-72f57a91d860",
   "metadata": {},
   "outputs": [
    {
     "name": "stdout",
     "output_type": "stream",
     "text": [
      "Requirement already satisfied: ultralytics in c:\\users\\sven deijkers\\documents\\programming\\codeprojects\\jupyterprojects\\ai-env\\lib\\site-packages (8.3.146)\n",
      "Requirement already satisfied: numpy>=1.23.0 in c:\\users\\sven deijkers\\documents\\programming\\codeprojects\\jupyterprojects\\ai-env\\lib\\site-packages (from ultralytics) (2.1.3)\n",
      "Requirement already satisfied: matplotlib>=3.3.0 in c:\\users\\sven deijkers\\documents\\programming\\codeprojects\\jupyterprojects\\ai-env\\lib\\site-packages (from ultralytics) (3.10.1)\n",
      "Requirement already satisfied: opencv-python>=4.6.0 in c:\\users\\sven deijkers\\documents\\programming\\codeprojects\\jupyterprojects\\ai-env\\lib\\site-packages (from ultralytics) (4.11.0.86)\n",
      "Requirement already satisfied: pillow>=7.1.2 in c:\\users\\sven deijkers\\documents\\programming\\codeprojects\\jupyterprojects\\ai-env\\lib\\site-packages (from ultralytics) (11.2.1)\n",
      "Requirement already satisfied: pyyaml>=5.3.1 in c:\\users\\sven deijkers\\documents\\programming\\codeprojects\\jupyterprojects\\ai-env\\lib\\site-packages (from ultralytics) (6.0.2)\n",
      "Requirement already satisfied: requests>=2.23.0 in c:\\users\\sven deijkers\\documents\\programming\\codeprojects\\jupyterprojects\\ai-env\\lib\\site-packages (from ultralytics) (2.32.3)\n",
      "Requirement already satisfied: scipy>=1.4.1 in c:\\users\\sven deijkers\\documents\\programming\\codeprojects\\jupyterprojects\\ai-env\\lib\\site-packages (from ultralytics) (1.15.3)\n",
      "Requirement already satisfied: torch>=1.8.0 in c:\\users\\sven deijkers\\documents\\programming\\codeprojects\\jupyterprojects\\ai-env\\lib\\site-packages (from ultralytics) (2.7.0)\n",
      "Requirement already satisfied: torchvision>=0.9.0 in c:\\users\\sven deijkers\\documents\\programming\\codeprojects\\jupyterprojects\\ai-env\\lib\\site-packages (from ultralytics) (0.22.0)\n",
      "Requirement already satisfied: tqdm>=4.64.0 in c:\\users\\sven deijkers\\documents\\programming\\codeprojects\\jupyterprojects\\ai-env\\lib\\site-packages (from ultralytics) (4.67.1)\n",
      "Requirement already satisfied: psutil in c:\\users\\sven deijkers\\documents\\programming\\codeprojects\\jupyterprojects\\ai-env\\lib\\site-packages (from ultralytics) (7.0.0)\n",
      "Requirement already satisfied: py-cpuinfo in c:\\users\\sven deijkers\\documents\\programming\\codeprojects\\jupyterprojects\\ai-env\\lib\\site-packages (from ultralytics) (9.0.0)\n",
      "Requirement already satisfied: pandas>=1.1.4 in c:\\users\\sven deijkers\\documents\\programming\\codeprojects\\jupyterprojects\\ai-env\\lib\\site-packages (from ultralytics) (2.2.3)\n",
      "Requirement already satisfied: ultralytics-thop>=2.0.0 in c:\\users\\sven deijkers\\documents\\programming\\codeprojects\\jupyterprojects\\ai-env\\lib\\site-packages (from ultralytics) (2.0.14)\n",
      "Requirement already satisfied: contourpy>=1.0.1 in c:\\users\\sven deijkers\\documents\\programming\\codeprojects\\jupyterprojects\\ai-env\\lib\\site-packages (from matplotlib>=3.3.0->ultralytics) (1.3.2)\n",
      "Requirement already satisfied: cycler>=0.10 in c:\\users\\sven deijkers\\documents\\programming\\codeprojects\\jupyterprojects\\ai-env\\lib\\site-packages (from matplotlib>=3.3.0->ultralytics) (0.12.1)\n",
      "Requirement already satisfied: fonttools>=4.22.0 in c:\\users\\sven deijkers\\documents\\programming\\codeprojects\\jupyterprojects\\ai-env\\lib\\site-packages (from matplotlib>=3.3.0->ultralytics) (4.57.0)\n",
      "Requirement already satisfied: kiwisolver>=1.3.1 in c:\\users\\sven deijkers\\documents\\programming\\codeprojects\\jupyterprojects\\ai-env\\lib\\site-packages (from matplotlib>=3.3.0->ultralytics) (1.4.8)\n",
      "Requirement already satisfied: packaging>=20.0 in c:\\users\\sven deijkers\\documents\\programming\\codeprojects\\jupyterprojects\\ai-env\\lib\\site-packages (from matplotlib>=3.3.0->ultralytics) (25.0)\n",
      "Requirement already satisfied: pyparsing>=2.3.1 in c:\\users\\sven deijkers\\documents\\programming\\codeprojects\\jupyterprojects\\ai-env\\lib\\site-packages (from matplotlib>=3.3.0->ultralytics) (3.2.3)\n",
      "Requirement already satisfied: python-dateutil>=2.7 in c:\\users\\sven deijkers\\documents\\programming\\codeprojects\\jupyterprojects\\ai-env\\lib\\site-packages (from matplotlib>=3.3.0->ultralytics) (2.9.0.post0)\n",
      "Requirement already satisfied: pytz>=2020.1 in c:\\users\\sven deijkers\\documents\\programming\\codeprojects\\jupyterprojects\\ai-env\\lib\\site-packages (from pandas>=1.1.4->ultralytics) (2025.2)\n",
      "Requirement already satisfied: tzdata>=2022.7 in c:\\users\\sven deijkers\\documents\\programming\\codeprojects\\jupyterprojects\\ai-env\\lib\\site-packages (from pandas>=1.1.4->ultralytics) (2025.2)\n",
      "Requirement already satisfied: six>=1.5 in c:\\users\\sven deijkers\\documents\\programming\\codeprojects\\jupyterprojects\\ai-env\\lib\\site-packages (from python-dateutil>=2.7->matplotlib>=3.3.0->ultralytics) (1.17.0)\n",
      "Requirement already satisfied: charset-normalizer<4,>=2 in c:\\users\\sven deijkers\\documents\\programming\\codeprojects\\jupyterprojects\\ai-env\\lib\\site-packages (from requests>=2.23.0->ultralytics) (3.4.2)\n",
      "Requirement already satisfied: idna<4,>=2.5 in c:\\users\\sven deijkers\\documents\\programming\\codeprojects\\jupyterprojects\\ai-env\\lib\\site-packages (from requests>=2.23.0->ultralytics) (3.10)\n",
      "Requirement already satisfied: urllib3<3,>=1.21.1 in c:\\users\\sven deijkers\\documents\\programming\\codeprojects\\jupyterprojects\\ai-env\\lib\\site-packages (from requests>=2.23.0->ultralytics) (2.4.0)\n",
      "Requirement already satisfied: certifi>=2017.4.17 in c:\\users\\sven deijkers\\documents\\programming\\codeprojects\\jupyterprojects\\ai-env\\lib\\site-packages (from requests>=2.23.0->ultralytics) (2025.4.26)\n",
      "Requirement already satisfied: filelock in c:\\users\\sven deijkers\\documents\\programming\\codeprojects\\jupyterprojects\\ai-env\\lib\\site-packages (from torch>=1.8.0->ultralytics) (3.18.0)\n",
      "Requirement already satisfied: typing-extensions>=4.10.0 in c:\\users\\sven deijkers\\documents\\programming\\codeprojects\\jupyterprojects\\ai-env\\lib\\site-packages (from torch>=1.8.0->ultralytics) (4.13.2)\n",
      "Requirement already satisfied: sympy>=1.13.3 in c:\\users\\sven deijkers\\documents\\programming\\codeprojects\\jupyterprojects\\ai-env\\lib\\site-packages (from torch>=1.8.0->ultralytics) (1.14.0)\n",
      "Requirement already satisfied: networkx in c:\\users\\sven deijkers\\documents\\programming\\codeprojects\\jupyterprojects\\ai-env\\lib\\site-packages (from torch>=1.8.0->ultralytics) (3.5)\n",
      "Requirement already satisfied: jinja2 in c:\\users\\sven deijkers\\documents\\programming\\codeprojects\\jupyterprojects\\ai-env\\lib\\site-packages (from torch>=1.8.0->ultralytics) (3.1.6)\n",
      "Requirement already satisfied: fsspec in c:\\users\\sven deijkers\\documents\\programming\\codeprojects\\jupyterprojects\\ai-env\\lib\\site-packages (from torch>=1.8.0->ultralytics) (2025.5.1)\n",
      "Requirement already satisfied: mpmath<1.4,>=1.1.0 in c:\\users\\sven deijkers\\documents\\programming\\codeprojects\\jupyterprojects\\ai-env\\lib\\site-packages (from sympy>=1.13.3->torch>=1.8.0->ultralytics) (1.3.0)\n",
      "Requirement already satisfied: colorama in c:\\users\\sven deijkers\\documents\\programming\\codeprojects\\jupyterprojects\\ai-env\\lib\\site-packages (from tqdm>=4.64.0->ultralytics) (0.4.6)\n",
      "Requirement already satisfied: MarkupSafe>=2.0 in c:\\users\\sven deijkers\\documents\\programming\\codeprojects\\jupyterprojects\\ai-env\\lib\\site-packages (from jinja2->torch>=1.8.0->ultralytics) (3.0.2)\n"
     ]
    }
   ],
   "source": [
    "!pip install ultralytics"
   ]
  },
  {
   "cell_type": "code",
   "execution_count": 1,
   "id": "3d32cdce-a5a7-4298-82b8-d2c002b658a3",
   "metadata": {},
   "outputs": [],
   "source": [
    "from ultralytics import YOLO\n",
    "from PIL import Image\n",
    "import matplotlib.pyplot as plt"
   ]
  },
  {
   "cell_type": "code",
   "execution_count": 2,
   "id": "6ce036ea-af07-432d-b9ed-339763bb8a44",
   "metadata": {},
   "outputs": [],
   "source": [
    "model = YOLO(\"yolov8n.pt\")\n",
    "# image_path1 = \".\\MarsRoverDataset\\Test\\Obstacles\\Obstacle_51.jpg\" # Obstakels\n",
    "# image_path2 = \".\\MarsRoverDataset\\Test\\FreePath\\FreePath_54.jpg\" # Vrije paden\n",
    "\n",
    "# results = model(image_path1)\n",
    "\n",
    "# # results[0].show()\n",
    "\n",
    "# obstacles = results[0].boxes\n",
    "# if len(obstacles) > 0:\n",
    "#     print(\"Obstakel\")\n",
    "# else:\n",
    "#     print(\"Vrij pad\")"
   ]
  },
  {
   "cell_type": "markdown",
   "id": "2553fc96-77b8-4a56-9646-0425a85ce733",
   "metadata": {},
   "source": [
    "# Retrieving Camera Footage"
   ]
  },
  {
   "cell_type": "code",
   "execution_count": 3,
   "id": "398d205c-a1a6-4957-9c86-f63f99b3edfa",
   "metadata": {},
   "outputs": [],
   "source": [
    "import cv2"
   ]
  },
  {
   "cell_type": "code",
   "execution_count": 4,
   "id": "abd6597d-819e-40e6-820a-7ffb112766b6",
   "metadata": {},
   "outputs": [],
   "source": [
    "# for i in range(5):\n",
    "#     cap = cv2.VideoCapture(i)\n",
    "#     if cap.isOpened():\n",
    "#         print(f\"Camera is gevonden op index {i}\")\n",
    "#     else:\n",
    "#         print(f\"Géén camera op index {i}\")\n",
    "#     cap.release()\n",
    "#Kijken op welke indexes camera's zijn gevonden"
   ]
  },
  {
   "cell_type": "code",
   "execution_count": 5,
   "id": "ce69ab06-76f8-487b-8bc2-9d3542693324",
   "metadata": {},
   "outputs": [],
   "source": [
    "from ultralytics import YOLO\n",
    "import time"
   ]
  },
  {
   "cell_type": "code",
   "execution_count": 6,
   "id": "cb6cda2b-5de6-4271-b8c2-a7c2a6ecb6d0",
   "metadata": {},
   "outputs": [
    {
     "name": "stdout",
     "output_type": "stream",
     "text": [
      "Requirement already satisfied: pyserial in c:\\users\\sven deijkers\\documents\\programming\\codeprojects\\jupyterprojects\\ai-env\\lib\\site-packages (3.5)\n",
      "Note: you may need to restart the kernel to use updated packages.\n"
     ]
    }
   ],
   "source": [
    "pip install pyserial"
   ]
  },
  {
   "cell_type": "code",
   "execution_count": 7,
   "id": "db08ef78-3aee-4e0d-a9e1-adf394d1dec6",
   "metadata": {},
   "outputs": [],
   "source": [
    "import serial\n",
    "import time"
   ]
  },
  {
   "cell_type": "code",
   "execution_count": 8,
   "id": "4754d08c-fadc-4158-9103-05615dbf7201",
   "metadata": {},
   "outputs": [],
   "source": [
    "arduino = serial.Serial(\"COM3\", 9600)\n",
    "time.sleep(2)"
   ]
  },
  {
   "cell_type": "code",
   "execution_count": 9,
   "id": "caf9007f-e4a1-4450-857c-d3b00f5080fc",
   "metadata": {},
   "outputs": [],
   "source": [
    "# arduino.write(b\"\\n\")"
   ]
  },
  {
   "cell_type": "code",
   "execution_count": 10,
   "id": "184f009b-4b97-49aa-812a-c0e9a2b7fd0c",
   "metadata": {
    "scrolled": true
   },
   "outputs": [
    {
     "ename": "SerialException",
     "evalue": "WriteFile failed (PermissionError(13, 'Het apparaat herkent de opdracht niet.', None, 22))",
     "output_type": "error",
     "traceback": [
      "\u001b[31m---------------------------------------------------------------------------\u001b[39m",
      "\u001b[31mSerialException\u001b[39m                           Traceback (most recent call last)",
      "\u001b[36mCell\u001b[39m\u001b[36m \u001b[39m\u001b[32mIn[10]\u001b[39m\u001b[32m, line 39\u001b[39m\n\u001b[32m     37\u001b[39m \u001b[38;5;28;01melse\u001b[39;00m:\n\u001b[32m     38\u001b[39m     status = \u001b[33m\"\u001b[39m\u001b[33mVRIJ PAD\u001b[39m\u001b[33m\"\u001b[39m\n\u001b[32m---> \u001b[39m\u001b[32m39\u001b[39m     \u001b[43marduino\u001b[49m\u001b[43m.\u001b[49m\u001b[43mwrite\u001b[49m\u001b[43m(\u001b[49m\u001b[33;43mb\u001b[39;49m\u001b[33;43m\"\u001b[39;49m\u001b[33;43mFreePath\u001b[39;49m\u001b[38;5;130;43;01m\\n\u001b[39;49;00m\u001b[33;43m\"\u001b[39;49m\u001b[43m)\u001b[49m\n\u001b[32m     41\u001b[39m \u001b[38;5;66;03m# Teken resultaten + status\u001b[39;00m\n\u001b[32m     42\u001b[39m annotated = results[\u001b[32m0\u001b[39m].plot()\n",
      "\u001b[36mFile \u001b[39m\u001b[32m~\\Documents\\Programming\\CodeProjects\\JupyterProjects\\ai-env\\Lib\\site-packages\\serial\\serialwin32.py:317\u001b[39m, in \u001b[36mSerial.write\u001b[39m\u001b[34m(self, data)\u001b[39m\n\u001b[32m    315\u001b[39m \u001b[38;5;28;01mif\u001b[39;00m \u001b[38;5;28mself\u001b[39m._write_timeout != \u001b[32m0\u001b[39m:  \u001b[38;5;66;03m# if blocking (None) or w/ write timeout (>0)\u001b[39;00m\n\u001b[32m    316\u001b[39m     \u001b[38;5;28;01mif\u001b[39;00m \u001b[38;5;129;01mnot\u001b[39;00m success \u001b[38;5;129;01mand\u001b[39;00m win32.GetLastError() \u001b[38;5;129;01mnot\u001b[39;00m \u001b[38;5;129;01min\u001b[39;00m (win32.ERROR_SUCCESS, win32.ERROR_IO_PENDING):\n\u001b[32m--> \u001b[39m\u001b[32m317\u001b[39m         \u001b[38;5;28;01mraise\u001b[39;00m SerialException(\u001b[33m\"\u001b[39m\u001b[33mWriteFile failed (\u001b[39m\u001b[38;5;132;01m{!r}\u001b[39;00m\u001b[33m)\u001b[39m\u001b[33m\"\u001b[39m.format(ctypes.WinError()))\n\u001b[32m    319\u001b[39m     \u001b[38;5;66;03m# Wait for the write to complete.\u001b[39;00m\n\u001b[32m    320\u001b[39m     \u001b[38;5;66;03m#~ win32.WaitForSingleObject(self._overlapped_write.hEvent, win32.INFINITE)\u001b[39;00m\n\u001b[32m    321\u001b[39m     win32.GetOverlappedResult(\u001b[38;5;28mself\u001b[39m._port_handle, \u001b[38;5;28mself\u001b[39m._overlapped_write, ctypes.byref(n), \u001b[38;5;28;01mTrue\u001b[39;00m)\n",
      "\u001b[31mSerialException\u001b[39m: WriteFile failed (PermissionError(13, 'Het apparaat herkent de opdracht niet.', None, 22))"
     ]
    }
   ],
   "source": [
    "camera_index = 2\n",
    "# Model eerder gecreëerd\n",
    "cap = cv2.VideoCapture(camera_index)\n",
    "\n",
    "if not cap.isOpened():\n",
    "    print(\"Kan de camera niet openen\")\n",
    "    exit()\n",
    "\n",
    "def is_obstacle_detected(results, class_filter={\"person\", \"car\", \"chair\"}, size_thresh=0.05):\n",
    "    img_w, img_h = results[0].orig_shape[1], results[0].orig_shape[0]\n",
    "    for box in results[0].boxes:\n",
    "        cls = int(box.cls[0])\n",
    "        name = model.names[cls]\n",
    "        if name not in class_filter:\n",
    "            continue\n",
    "        x1, y1, x2, y2 = box.xyxy[0]\n",
    "        box_area = (x2 - x1) * (y2 - y1)\n",
    "        img_area = img_w * img_h\n",
    "        if box_area / img_area > size_thresh:\n",
    "            return True, name\n",
    "    return False, None\n",
    "\n",
    "# 🌀 Live loop\n",
    "while True:\n",
    "    ret, frame = cap.read()\n",
    "    if not ret:\n",
    "        print(\"Geen frame ontvangen\")\n",
    "        break\n",
    "\n",
    "    results = model(frame, verbose=False) # Verbose op False zorgt ervoor dat er geen output ontstaat van 1000 regels\n",
    "\n",
    "    # Analyseer\n",
    "    obstacle, obj_name = is_obstacle_detected(results)\n",
    "    if obstacle:\n",
    "        status = f\"OBSTAKEL GEDTECTEERD ({obj_name})\"\n",
    "        arduino.write(b\"Obstacle\\n\")\n",
    "    else:\n",
    "        status = \"VRIJ PAD\"\n",
    "        arduino.write(b\"FreePath\\n\")\n",
    "\n",
    "    # Teken resultaten + status\n",
    "    annotated = results[0].plot()\n",
    "    cv2.putText(annotated, status, (10, 30), cv2.FONT_HERSHEY_SIMPLEX,\n",
    "                1, (0, 255, 0) if not obstacle else (0, 0, 255), 2)\n",
    "\n",
    "    # Toon beeld\n",
    "    cv2.imshow(\"FPV Live Feed\", annotated)\n",
    "\n",
    "    # Stop met Q\n",
    "    if cv2.waitKey(1) & 0xFF == ord('q'):\n",
    "        break\n",
    "\n",
    "# 🧹 Opruimen\n",
    "cap.release()\n",
    "cv2.destroyAllWindows()"
   ]
  },
  {
   "cell_type": "markdown",
   "id": "f954b1d8-170c-4ea4-9f6b-5b58001c0000",
   "metadata": {},
   "source": [
    "# Arduino communicatie"
   ]
  },
  {
   "cell_type": "code",
   "execution_count": null,
   "id": "5278e630-4a14-4b03-9e12-c1e65d693e57",
   "metadata": {},
   "outputs": [],
   "source": [
    "# if obstacle:\n",
    "#     print(\"Obstacle\")\n",
    "#     arduino.write(b\"Obstacle\\n\")\n",
    "# else:\n",
    "#     print(\"FreePath\")\n",
    "#     arduino.write(b\"FreePath\\n\")"
   ]
  }
 ],
 "metadata": {
  "kernelspec": {
   "display_name": "Python 3 (ipykernel)",
   "language": "python",
   "name": "python3"
  },
  "language_info": {
   "codemirror_mode": {
    "name": "ipython",
    "version": 3
   },
   "file_extension": ".py",
   "mimetype": "text/x-python",
   "name": "python",
   "nbconvert_exporter": "python",
   "pygments_lexer": "ipython3",
   "version": "3.11.9"
  }
 },
 "nbformat": 4,
 "nbformat_minor": 5
}
